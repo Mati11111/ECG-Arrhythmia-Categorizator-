{
 "cells": [
  {
   "cell_type": "code",
   "execution_count": null,
   "id": "9286c454",
   "metadata": {},
   "outputs": [
    {
     "name": "stdout",
     "output_type": "stream",
     "text": [
      "Datos de ecg almacenados en datos.json\n"
     ]
    }
   ],
   "source": [
    "import os\n",
    "import requests\n",
    "import json\n",
    "\n",
    "url = \"https://e8aafa0e2bf6.ngrok-free.app/ecg\"\n",
    "\n",
    "response = requests.get(url)\n",
    "\n",
    "if response.status_code == 200:\n",
    "    file = \"ecg_data_to_load.txt\"   \n",
    "    folder = \"processing_data\" \n",
    "    os.makedirs(folder, exist_ok=True)\n",
    "    file_path = os.path.join(folder, file)\n",
    "    with open(file, \"w\", encoding=\"utf'8\") as f:\n",
    "        json.dump(response.json(), f,indent=4, ensure_ascii=False)\n",
    "    print(\"Datos de ecg almacenados en datos.json\")    \n",
    "    \n",
    "else:\n",
    "    print(\"error\")"
   ]
  }
 ],
 "metadata": {
  "kernelspec": {
   "display_name": ".venv",
   "language": "python",
   "name": "python3"
  },
  "language_info": {
   "codemirror_mode": {
    "name": "ipython",
    "version": 3
   },
   "file_extension": ".py",
   "mimetype": "text/x-python",
   "name": "python",
   "nbconvert_exporter": "python",
   "pygments_lexer": "ipython3",
   "version": "3.8.8"
  }
 },
 "nbformat": 4,
 "nbformat_minor": 5
}
