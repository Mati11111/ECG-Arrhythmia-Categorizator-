{
 "cells": [
  {
   "cell_type": "code",
   "execution_count": null,
   "id": "99e570bc",
   "metadata": {},
   "outputs": [],
   "source": [
    "import torch\n",
    "import pandas as pd\n",
    "import joblib"
   ]
  },
  {
   "cell_type": "code",
   "execution_count": null,
   "id": "7f750b84",
   "metadata": {},
   "outputs": [
    {
     "name": "stdout",
     "output_type": "stream",
     "text": [
      "Predicciones guardadas en '../processing_data/predicted_data.csv'\n"
     ]
    }
   ],
   "source": [
    "class ECGNet(torch.nn.Module):\n",
    "    def __init__(self, input_size, num_classes):\n",
    "        super(ECGNet, self).__init__()\n",
    "        self.fc1 = torch.nn.Linear(input_size, 128)\n",
    "        self.relu1 = torch.nn.ReLU()\n",
    "        self.fc2 = torch.nn.Linear(128, 64)\n",
    "        self.relu2 = torch.nn.ReLU()\n",
    "        self.fc3 = torch.nn.Linear(64, num_classes)\n",
    "\n",
    "    def forward(self, x):\n",
    "        x = self.relu1(self.fc1(x))\n",
    "        x = self.relu2(self.fc2(x))\n",
    "        return self.fc3(x)\n",
    "\n",
    "device = torch.device(\"cuda\" if torch.cuda.is_available() else \"cpu\")\n",
    "model = ECGNet(input_size=187, num_classes=5)  \n",
    "model.load_state_dict(torch.load(\"ecg_model_mlp.pth\", map_location=device))\n",
    "model.to(device)\n",
    "model.eval()\n",
    "\n",
    "scaler = joblib.load(\"minmaxscaler.pkl\")\n",
    "\n",
    "new_data = pd.read_csv(\"ecg_segmentado_187.csv\", header=None, sep=';')\n",
    "\n",
    "if new_data.shape[1] == 0:\n",
    "    raise ValueError(\"CSV FILE IS EMPTY\")\n",
    "\n",
    "X_new = new_data.values  \n",
    "X_new_scaled = scaler.transform(X_new)\n",
    "\n",
    "X_new_tensor = torch.tensor(X_new_scaled, dtype=torch.float32).to(device)\n",
    "\n",
    "with torch.no_grad():\n",
    "    outputs = model(X_new_tensor)\n",
    "    _, predicted_classes = torch.max(outputs, 1)\n",
    "\n",
    "new_data['Predicted_Class'] = predicted_classes.cpu().numpy()\n",
    "\n",
    "new_data.to_csv(\"predicted_data.csv\", index=False)"
   ]
  }
 ],
 "metadata": {
  "kernelspec": {
   "display_name": ".venv",
   "language": "python",
   "name": "python3"
  },
  "language_info": {
   "codemirror_mode": {
    "name": "ipython",
    "version": 3
   },
   "file_extension": ".py",
   "mimetype": "text/x-python",
   "name": "python",
   "nbconvert_exporter": "python",
   "pygments_lexer": "ipython3",
   "version": "3.8.8"
  }
 },
 "nbformat": 4,
 "nbformat_minor": 5
}
