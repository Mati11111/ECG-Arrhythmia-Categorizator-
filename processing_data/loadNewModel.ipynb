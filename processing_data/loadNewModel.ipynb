{
 "cells": [
  {
   "cell_type": "code",
   "execution_count": null,
   "id": "9286c454",
   "metadata": {},
   "outputs": [],
   "source": [
    "from dotenv import load_dotenv\n",
    "import os\n",
    "import json\n",
    "import cloudinary\n",
    "import cloudinary.uploader\n",
    "import cloudinary.api\n",
    "\n",
    "load_dotenv()\n",
    "\n",
    "cloudinary.config(\n",
    "    cloud_name = os.getenv(\"CLOUD_NAME\"),\n",
    "    api_key = os.getenv(\"CLOUD_API_KEY\"),\n",
    "    api_secret = os.getenv(\"CLOUD_API_SECRET\")\n",
    ")\n",
    "\n",
    "model_pth = \"ecg_model_mlp.pth\"   \n",
    "scaler_plk = \"minmaxscaler.pkl\" \n",
    "folder = \"./\"\n",
    "os.makedirs(folder, exist_ok=True)\n",
    "\n",
    "file_path_model = os.path.join(folder, model_pth)\n",
    "file_path_scaler = os.path.join(folder, scaler_plk)\n",
    "\n",
    "result_model_load = cloudinary.uploader.upload(file_path_model, resource_type=\"raw\")\n",
    "\n",
    "result_scaler_load = cloudinary.uploader.upload(file_path_scaler, resource_type=\"raw\")\n"
   ]
  }
 ],
 "metadata": {
  "kernelspec": {
   "display_name": ".venv",
   "language": "python",
   "name": "python3"
  },
  "language_info": {
   "codemirror_mode": {
    "name": "ipython",
    "version": 3
   },
   "file_extension": ".py",
   "mimetype": "text/x-python",
   "name": "python",
   "nbconvert_exporter": "python",
   "pygments_lexer": "ipython3",
   "version": "3.8.8"
  }
 },
 "nbformat": 4,
 "nbformat_minor": 5
}
