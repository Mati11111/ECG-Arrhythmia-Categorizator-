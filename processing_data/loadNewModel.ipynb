{
 "cells": [
  {
   "cell_type": "code",
   "execution_count": null,
   "id": "9286c454",
   "metadata": {},
   "outputs": [],
   "source": [
    "from dotenv import load_dotenv\n",
    "import os\n",
    "import cloudinary\n",
    "import cloudinary.uploader\n",
    "import cloudinary.api\n",
    "\n",
    "load_dotenv()\n",
    "\n",
    "cloudinary.config(\n",
    "    cloud_name = os.getenv(\"CLOUD_NAME\"),\n",
    "    api_key = os.getenv(\"CLOUD_API_KEY\"),\n",
    "    api_secret = os.getenv(\"CLOUD_API_SECRET\")\n",
    ")\n",
    "\n",
    "model_pth = \"ecg_model_mlp.pth\"\n",
    "scaler_plk = \"minmaxscaler.pkl\"\n",
    "folder_local = \"./\"\n",
    "os.makedirs(folder_local, exist_ok=True)\n",
    "\n",
    "file_path_model = os.path.join(folder_local, model_pth)\n",
    "file_path_scaler = os.path.join(folder_local, scaler_plk)\n",
    "\n",
    "cloud_folder = \"githubRepo-Ecg-Proyecto\"  \n",
    "\n",
    "try:\n",
    "    cloudinary.api.delete_resources_by_prefix(cloud_folder)\n",
    "    print(f\"DELETING ALL FILES...\")\n",
    "except Exception as e:\n",
    "    print(f\"CAN'T CLEAN UP '{cloud_folder}': {e}\")\n",
    "\n",
    "result_model_load = cloudinary.uploader.upload(\n",
    "    file_path_model,\n",
    "    resource_type=\"raw\",\n",
    "    folder=cloud_folder\n",
    ")\n",
    "\n",
    "result_scaler_load = cloudinary.uploader.upload(\n",
    "    file_path_scaler,\n",
    "    resource_type=\"raw\",\n",
    "    folder=cloud_folder\n",
    ")\n",
    "\n",
    "for file_path in [file_path_model, file_path_scaler]:\n",
    "    try:\n",
    "        if os.path.exists(file_path):\n",
    "            os.remove(file_path)\n",
    "            print(f\"DELETED LOCAL FILES: {file_path}\")\n",
    "        else:\n",
    "            print(f\"LOCAL FILES NOT FOUND {file_path}\")\n",
    "    except Exception as e:\n",
    "        print(f\"ERROR DELETING LOCAL FILE : {e}\")\n",
    "\n"
   ]
  }
 ],
 "metadata": {
  "kernelspec": {
   "display_name": ".venv",
   "language": "python",
   "name": "python3"
  },
  "language_info": {
   "codemirror_mode": {
    "name": "ipython",
    "version": 3
   },
   "file_extension": ".py",
   "mimetype": "text/x-python",
   "name": "python",
   "nbconvert_exporter": "python",
   "pygments_lexer": "ipython3",
   "version": "3.8.8"
  }
 },
 "nbformat": 4,
 "nbformat_minor": 5
}
