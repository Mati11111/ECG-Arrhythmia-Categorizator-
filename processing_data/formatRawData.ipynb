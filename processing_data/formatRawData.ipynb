{
 "cells": [
  {
   "cell_type": "code",
   "execution_count": null,
   "id": "5647d465",
   "metadata": {},
   "outputs": [
    {
     "name": "stdout",
     "output_type": "stream",
     "text": [
      "Archivo de segmentos guardado: ecg_segmentado_187.csv\n"
     ]
    }
   ],
   "source": [
    "import json\n",
    "import numpy as np\n",
    "from sklearn.preprocessing import MinMaxScaler\n",
    "import scipy.signal as signal\n",
    "\n",
    "def cargar_y_filtrar_json(input_file, fs, lowcut=0.5, highcut=40.0, notch_freq=50.0, Q=30.0, order=4):\n",
    "    with open(input_file, \"r\") as f:\n",
    "        data_json = json.load(f)\n",
    "\n",
    "    signal_raw = np.array([item[\"value\"] for item in data_json], dtype=np.float32)\n",
    "    \n",
    "    if len(signal_raw) == 0:\n",
    "        raise ValueError(\"SIGNAL IS EMPTY\")\n",
    "\n",
    "    b, a = signal.butter(order, [lowcut/(0.5*fs), highcut/(0.5*fs)], btype='band')\n",
    "    signal_filtered = signal.filtfilt(b, a, signal_raw)\n",
    "\n",
    "    b_notch, a_notch = signal.iirnotch(notch_freq, Q, fs)\n",
    "    signal_filtered = signal.filtfilt(b_notch, a_notch, signal_filtered)\n",
    "\n",
    "    scaler = MinMaxScaler(feature_range=(0, 1))\n",
    "    signal_normalizada = scaler.fit_transform(signal_filtered.reshape(-1, 1)).flatten()\n",
    "    \n",
    "    return signal_normalizada\n",
    "\n",
    "def segmentar_y_guardar(signal_filtered, segment_length, output_file):\n",
    "    num_segments = int(np.ceil(len(signal_filtered) / segment_length))\n",
    "    \n",
    "    padded_length = num_segments * segment_length\n",
    "    signal_padded = np.pad(signal_filtered, (0, padded_length - len(signal_filtered)), \n",
    "                           mode='constant', constant_values=0)\n",
    "    \n",
    "    segments = signal_padded.reshape(num_segments, segment_length)\n",
    "    \n",
    "    np.savetxt(output_file, segments, delimiter=';', fmt='%.6f')\n",
    "    print(f\"✅ Guardado {num_segments} segmentos en {output_file} (incluye padding si hizo falta)\")\n",
    "\n",
    "if __name__ == \"__main__\":\n",
    "    input_file = \"ecg_data_to_load.txt\"  \n",
    "    output_file = \"ecg_segmentado_187.csv\"\n",
    "    fs = 125         \n",
    "    segment_length = 187\n",
    "\n",
    "    signal_filtered = cargar_y_filtrar_json(input_file, fs)\n",
    "    segmentar_y_guardar(signal_filtered, segment_length, output_file)\n"
   ]
  }
 ],
 "metadata": {
  "kernelspec": {
   "display_name": ".venv",
   "language": "python",
   "name": "python3"
  },
  "language_info": {
   "codemirror_mode": {
    "name": "ipython",
    "version": 3
   },
   "file_extension": ".py",
   "mimetype": "text/x-python",
   "name": "python",
   "nbconvert_exporter": "python",
   "pygments_lexer": "ipython3",
   "version": "3.8.8"
  }
 },
 "nbformat": 4,
 "nbformat_minor": 5
}
