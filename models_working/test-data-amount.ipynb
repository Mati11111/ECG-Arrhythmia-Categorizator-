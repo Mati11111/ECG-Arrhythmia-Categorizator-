{
 "cells": [
  {
   "cell_type": "code",
   "execution_count": 1,
   "id": "945390de",
   "metadata": {},
   "outputs": [],
   "source": [
    "import pandas as pd\n",
    "import matplotlib.pyplot as plt"
   ]
  },
  {
   "cell_type": "code",
   "execution_count": null,
   "id": "c7925bf9",
   "metadata": {},
   "outputs": [
    {
     "name": "stdout",
     "output_type": "stream",
     "text": [
      "Conteo muestras por clase en TRAIN:\n",
      "Normal (N): 72471\n",
      "Supraventricular premature (S): 2223\n",
      "Premature ventricular contraction (V): 5788\n",
      "Fusion of ventricular and normal beat (F): 641\n",
      "Unclassifiable beat (Q): 6431\n",
      "\n",
      "Conteo muestras por clase en TEST:\n",
      "Normal (N): 18118\n",
      "Supraventricular premature (S): 556\n",
      "Premature ventricular contraction (V): 1448\n",
      "Fusion of ventricular and normal beat (F): 162\n",
      "Unclassifiable beat (Q): 1608\n"
     ]
    }
   ],
   "source": [
    "\n",
    "train_df = pd.read_csv(\"mitbih_train.csv\", header=None)\n",
    "test_df = pd.read_csv(\"mitbih_test.csv\", header=None)\n",
    "\n",
    "label_col = train_df.columns[-1]\n",
    "\n",
    "conteo_train = train_df[label_col].value_counts().sort_index()\n",
    "\n",
    "conteo_test = test_df[label_col].value_counts().sort_index()\n",
    "\n",
    "conditions = {\n",
    "    0: \"Normal (N)\",\n",
    "    1: \"Supraventricular premature (S)\",\n",
    "    2: \"Premature ventricular contraction (V)\",\n",
    "    3: \"Fusion of ventricular and normal beat (F)\",\n",
    "    4: \"Unclassifiable beat (Q)\"\n",
    "}\n",
    "\n",
    "print(\"Conteo muestras por clase en TRAIN:\")\n",
    "for clase, nombre in conditions.items():\n",
    "    print(f\"{nombre}: {conteo_train.get(clase, 0)}\")\n",
    "\n",
    "print(\"\\nConteo muestras por clase en TEST:\")\n",
    "for clase, nombre in conditions.items():\n",
    "    print(f\"{nombre}: {conteo_test.get(clase, 0)}\")"
   ]
  }
 ],
 "metadata": {
  "kernelspec": {
   "display_name": ".venv",
   "language": "python",
   "name": "python3"
  },
  "language_info": {
   "codemirror_mode": {
    "name": "ipython",
    "version": 3
   },
   "file_extension": ".py",
   "mimetype": "text/x-python",
   "name": "python",
   "nbconvert_exporter": "python",
   "pygments_lexer": "ipython3",
   "version": "3.8.8"
  }
 },
 "nbformat": 4,
 "nbformat_minor": 5
}
