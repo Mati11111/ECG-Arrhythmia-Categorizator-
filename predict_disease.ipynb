{
 "cells": [
  {
   "cell_type": "code",
   "execution_count": 1,
   "id": "05211d6e",
   "metadata": {},
   "outputs": [],
   "source": [
    "\n",
    "from sklearn.preprocessing import MinMaxScaler\n",
    "import pandas as pd\n",
    "import numpy as np\n",
    "import neurokit2 as nk\n",
    "import scipy.signal as signal\n",
    "import torch\n",
    "import torch.nn as nn\n",
    "import neurokit2 as nk\n",
    "import tensorflow as tf\n",
    "import scipy.signal as signal\n",
    "import matplotlib.pyplot as plt\n",
    "import seaborn as sns\n",
    "import joblib\n",
    "from tensorflow.keras.models import load_model\n",
    "from collections import Counter"
   ]
  },
  {
   "cell_type": "markdown",
   "id": "02270776",
   "metadata": {},
   "source": [
    "# Preprocesado de los datos"
   ]
  },
  {
   "cell_type": "code",
   "execution_count": 2,
   "id": "e28aadd4",
   "metadata": {},
   "outputs": [],
   "source": [
    "# carga el documento que debe tener el formato indicado para funcionar\n",
    "# luego normaliza con valores entre -1 y 1\n",
    "# filtra las seniales que se consideran ruido\n",
    "\n",
    "def cargar_y_filtrar(input_file, fs, lowcut=0.5, highcut=40.0, notch_freq=50.0, Q=30.0, order=4):\n",
    "    df = pd.read_csv(input_file, sep=';', parse_dates=['Timestamp'])\n",
    "    signal_raw = df['ECG_Value'].values.astype(np.float32)\n",
    "\n",
    "    b, a = signal.butter(order, [lowcut / (0.5 * fs), highcut / (0.5 * fs)], btype='band')\n",
    "    signal_filtered = signal.filtfilt(b, a, signal_raw)\n",
    "\n",
    "    b_notch, a_notch = signal.iirnotch(notch_freq, Q, fs)\n",
    "    \n",
    "    signal_filtered = signal.filtfilt(b_notch, a_notch, signal_filtered)\n",
    "    scaler = MinMaxScaler(feature_range=(0, 1))\n",
    "    signal_normalizada = scaler.fit_transform(signal_filtered.reshape(-1, 1)).flatten()    \n",
    "    \n",
    "    joblib.dump(scaler, \"minmaxscaler.pkl\")\n",
    "    \n",
    "    return df, signal_normalizada\n",
    "\n",
    "def detectar_r_peaks(signal_filtered, fs):\n",
    "    signals, info = nk.ecg_process(signal_filtered, sampling_rate=fs)\n",
    "    r_peaks = info[\"ECG_R_Peaks\"]\n",
    "    return r_peaks\n",
    "\n",
    "def guardar_con_picos(df, signal_filtered, r_peaks, output_file):      \n",
    "    df['Filtered_ECG'] = signal_filtered\n",
    "    df['R_Peak'] = 0\n",
    "    df.loc[r_peaks, 'R_Peak'] = 1\n",
    "    df.to_csv(output_file, sep=';', index=False)\n",
    "    print(f\"Archivo con R Peaks guardado: {output_file}\")\n",
    "    \n",
    "def segmentar_senal(signal_filtered, segment_length, output_segments_file):\n",
    "    num_segments = len(signal_filtered) // segment_length\n",
    "    signal_trimmed = signal_filtered[:num_segments * segment_length]\n",
    "    signal_segments = signal_trimmed.reshape(num_segments, segment_length)\n",
    "    np.savetxt(output_segments_file, signal_segments, delimiter=';', fmt='%.6f', header='', comments='')\n",
    "    print(f\"Archivo de segmentos guardado: {output_segments_file}\")\n",
    "    return signal_segments    "
   ]
  },
  {
   "cell_type": "code",
   "execution_count": 3,
   "id": "ad2a8e3a",
   "metadata": {},
   "outputs": [
    {
     "name": "stdout",
     "output_type": "stream",
     "text": [
      "Archivo de segmentos guardado: ecg_segmentado_187.csv\n"
     ]
    }
   ],
   "source": [
    "input_file = 'ecg_data_5.csv'\n",
    "output_file = \"ecg_data_filtrada_con_picos.csv\"\n",
    "output_segments_file = \"ecg_segmentado_187.csv\"\n",
    "\n",
    "# se asigna la frecuencia en hz de las ondas como las de mitbih\n",
    "fs = 125\n",
    "# cantidad de segmentos segun la cantidad del dataset\n",
    "segment_length = 187\n",
    "\n",
    "# carga y filtrado de los datos para quitar ruido\n",
    "df, signal_filtered = cargar_y_filtrar(input_file, fs)\n",
    "\n",
    "# se detectan los r peaks de las seniales\n",
    "r_peaks = detectar_r_peaks(signal_filtered, fs)\n",
    "\n",
    "# se genera documento con peaks asignados\n",
    "# guardar_con_picos(df, signal_filtered, r_peaks, output_file)\n",
    "# --> los picos \n",
    "# se genera documento final con segmentos de 187 filas\n",
    "signal_segments = segmentar_senal(signal_filtered, segment_length, output_segments_file)\n"
   ]
  },
  {
   "cell_type": "code",
   "execution_count": 4,
   "id": "4339c45d",
   "metadata": {},
   "outputs": [
    {
     "data": {
      "text/html": [
       "<div>\n",
       "<style scoped>\n",
       "    .dataframe tbody tr th:only-of-type {\n",
       "        vertical-align: middle;\n",
       "    }\n",
       "\n",
       "    .dataframe tbody tr th {\n",
       "        vertical-align: top;\n",
       "    }\n",
       "\n",
       "    .dataframe thead th {\n",
       "        text-align: right;\n",
       "    }\n",
       "</style>\n",
       "<table border=\"1\" class=\"dataframe\">\n",
       "  <thead>\n",
       "    <tr style=\"text-align: right;\">\n",
       "      <th></th>\n",
       "      <th>0</th>\n",
       "      <th>1</th>\n",
       "      <th>2</th>\n",
       "      <th>3</th>\n",
       "      <th>4</th>\n",
       "      <th>5</th>\n",
       "      <th>6</th>\n",
       "      <th>7</th>\n",
       "      <th>8</th>\n",
       "      <th>9</th>\n",
       "      <th>...</th>\n",
       "      <th>177</th>\n",
       "      <th>178</th>\n",
       "      <th>179</th>\n",
       "      <th>180</th>\n",
       "      <th>181</th>\n",
       "      <th>182</th>\n",
       "      <th>183</th>\n",
       "      <th>184</th>\n",
       "      <th>185</th>\n",
       "      <th>186</th>\n",
       "    </tr>\n",
       "  </thead>\n",
       "  <tbody>\n",
       "    <tr>\n",
       "      <th>0</th>\n",
       "      <td>0.518176</td>\n",
       "      <td>0.523370</td>\n",
       "      <td>0.531837</td>\n",
       "      <td>0.531881</td>\n",
       "      <td>0.515234</td>\n",
       "      <td>0.503050</td>\n",
       "      <td>0.516337</td>\n",
       "      <td>0.535594</td>\n",
       "      <td>0.532358</td>\n",
       "      <td>0.513301</td>\n",
       "      <td>...</td>\n",
       "      <td>0.522705</td>\n",
       "      <td>0.525055</td>\n",
       "      <td>0.524096</td>\n",
       "      <td>0.521848</td>\n",
       "      <td>0.527964</td>\n",
       "      <td>0.527621</td>\n",
       "      <td>0.508403</td>\n",
       "      <td>0.498895</td>\n",
       "      <td>0.511211</td>\n",
       "      <td>0.518360</td>\n",
       "    </tr>\n",
       "    <tr>\n",
       "      <th>1</th>\n",
       "      <td>0.515869</td>\n",
       "      <td>0.516029</td>\n",
       "      <td>0.514673</td>\n",
       "      <td>0.513545</td>\n",
       "      <td>0.517652</td>\n",
       "      <td>0.517982</td>\n",
       "      <td>0.514251</td>\n",
       "      <td>0.516944</td>\n",
       "      <td>0.521673</td>\n",
       "      <td>0.519660</td>\n",
       "      <td>...</td>\n",
       "      <td>0.500618</td>\n",
       "      <td>0.529621</td>\n",
       "      <td>0.541869</td>\n",
       "      <td>0.514744</td>\n",
       "      <td>0.527832</td>\n",
       "      <td>0.609032</td>\n",
       "      <td>0.625331</td>\n",
       "      <td>0.539347</td>\n",
       "      <td>0.493512</td>\n",
       "      <td>0.524402</td>\n",
       "    </tr>\n",
       "    <tr>\n",
       "      <th>2</th>\n",
       "      <td>0.540643</td>\n",
       "      <td>0.531275</td>\n",
       "      <td>0.533464</td>\n",
       "      <td>0.539117</td>\n",
       "      <td>0.537633</td>\n",
       "      <td>0.536467</td>\n",
       "      <td>0.539008</td>\n",
       "      <td>0.540179</td>\n",
       "      <td>0.536143</td>\n",
       "      <td>0.533751</td>\n",
       "      <td>...</td>\n",
       "      <td>0.501773</td>\n",
       "      <td>0.498294</td>\n",
       "      <td>0.497526</td>\n",
       "      <td>0.495791</td>\n",
       "      <td>0.498507</td>\n",
       "      <td>0.500249</td>\n",
       "      <td>0.491521</td>\n",
       "      <td>0.496758</td>\n",
       "      <td>0.529541</td>\n",
       "      <td>0.547446</td>\n",
       "    </tr>\n",
       "    <tr>\n",
       "      <th>3</th>\n",
       "      <td>0.532090</td>\n",
       "      <td>0.521325</td>\n",
       "      <td>0.528551</td>\n",
       "      <td>0.532493</td>\n",
       "      <td>0.527573</td>\n",
       "      <td>0.527107</td>\n",
       "      <td>0.535827</td>\n",
       "      <td>0.535045</td>\n",
       "      <td>0.516296</td>\n",
       "      <td>0.506799</td>\n",
       "      <td>...</td>\n",
       "      <td>0.529836</td>\n",
       "      <td>0.537154</td>\n",
       "      <td>0.537439</td>\n",
       "      <td>0.522070</td>\n",
       "      <td>0.492850</td>\n",
       "      <td>0.495236</td>\n",
       "      <td>0.525328</td>\n",
       "      <td>0.535241</td>\n",
       "      <td>0.529502</td>\n",
       "      <td>0.521148</td>\n",
       "    </tr>\n",
       "    <tr>\n",
       "      <th>4</th>\n",
       "      <td>0.504019</td>\n",
       "      <td>0.507364</td>\n",
       "      <td>0.532745</td>\n",
       "      <td>0.522904</td>\n",
       "      <td>0.495997</td>\n",
       "      <td>0.535276</td>\n",
       "      <td>0.598734</td>\n",
       "      <td>0.577554</td>\n",
       "      <td>0.516699</td>\n",
       "      <td>0.506041</td>\n",
       "      <td>...</td>\n",
       "      <td>0.529677</td>\n",
       "      <td>0.590863</td>\n",
       "      <td>0.614059</td>\n",
       "      <td>0.529781</td>\n",
       "      <td>0.468041</td>\n",
       "      <td>0.506208</td>\n",
       "      <td>0.546695</td>\n",
       "      <td>0.546542</td>\n",
       "      <td>0.541198</td>\n",
       "      <td>0.524917</td>\n",
       "    </tr>\n",
       "  </tbody>\n",
       "</table>\n",
       "<p>5 rows × 187 columns</p>\n",
       "</div>"
      ],
      "text/plain": [
       "        0         1         2         3         4         5         6    \\\n",
       "0  0.518176  0.523370  0.531837  0.531881  0.515234  0.503050  0.516337   \n",
       "1  0.515869  0.516029  0.514673  0.513545  0.517652  0.517982  0.514251   \n",
       "2  0.540643  0.531275  0.533464  0.539117  0.537633  0.536467  0.539008   \n",
       "3  0.532090  0.521325  0.528551  0.532493  0.527573  0.527107  0.535827   \n",
       "4  0.504019  0.507364  0.532745  0.522904  0.495997  0.535276  0.598734   \n",
       "\n",
       "        7         8         9    ...       177       178       179       180  \\\n",
       "0  0.535594  0.532358  0.513301  ...  0.522705  0.525055  0.524096  0.521848   \n",
       "1  0.516944  0.521673  0.519660  ...  0.500618  0.529621  0.541869  0.514744   \n",
       "2  0.540179  0.536143  0.533751  ...  0.501773  0.498294  0.497526  0.495791   \n",
       "3  0.535045  0.516296  0.506799  ...  0.529836  0.537154  0.537439  0.522070   \n",
       "4  0.577554  0.516699  0.506041  ...  0.529677  0.590863  0.614059  0.529781   \n",
       "\n",
       "        181       182       183       184       185       186  \n",
       "0  0.527964  0.527621  0.508403  0.498895  0.511211  0.518360  \n",
       "1  0.527832  0.609032  0.625331  0.539347  0.493512  0.524402  \n",
       "2  0.498507  0.500249  0.491521  0.496758  0.529541  0.547446  \n",
       "3  0.492850  0.495236  0.525328  0.535241  0.529502  0.521148  \n",
       "4  0.468041  0.506208  0.546695  0.546542  0.541198  0.524917  \n",
       "\n",
       "[5 rows x 187 columns]"
      ]
     },
     "execution_count": 4,
     "metadata": {},
     "output_type": "execute_result"
    }
   ],
   "source": [
    "df_processed = pd.read_csv(output_segments_file, sep=';',header=None)\n",
    "df_processed.head()\n",
    "#print(df_processed.shape)"
   ]
  },
  {
   "cell_type": "markdown",
   "id": "638bae65",
   "metadata": {},
   "source": [
    "# Modelo de multiperceptrones"
   ]
  },
  {
   "cell_type": "code",
   "execution_count": 5,
   "id": "08a2c548",
   "metadata": {},
   "outputs": [],
   "source": [
    "device = torch.device(\"cuda\" if torch.cuda.is_available() else \"cpu\")"
   ]
  },
  {
   "cell_type": "code",
   "execution_count": 6,
   "id": "57b8105b",
   "metadata": {},
   "outputs": [
    {
     "name": "stderr",
     "output_type": "stream",
     "text": [
      "C:\\Users\\matia\\AppData\\Local\\Temp\\ipykernel_9756\\2666010489.py:18: FutureWarning: You are using `torch.load` with `weights_only=False` (the current default value), which uses the default pickle module implicitly. It is possible to construct malicious pickle data which will execute arbitrary code during unpickling (See https://github.com/pytorch/pytorch/blob/main/SECURITY.md#untrusted-models for more details). In a future release, the default value for `weights_only` will be flipped to `True`. This limits the functions that could be executed during unpickling. Arbitrary objects will no longer be allowed to be loaded via this mode unless they are explicitly allowlisted by the user via `torch.serialization.add_safe_globals`. We recommend you start setting `weights_only=True` for any use case where you don't have full control of the loaded file. Please open an issue on GitHub for any issues related to this experimental feature.\n",
      "  model.load_state_dict(torch.load(\"ecg_model_mlp.pth\", map_location=device))\n"
     ]
    }
   ],
   "source": [
    "class ECGNet(nn.Module):\n",
    "    def __init__(self, input_size, num_classes):\n",
    "        super(ECGNet, self).__init__()\n",
    "        self.fc1 = nn.Linear(input_size, 128)\n",
    "        self.relu1 = nn.ReLU()\n",
    "        self.fc2 = nn.Linear(128, 64)\n",
    "        self.relu2 = nn.ReLU()\n",
    "        self.fc3 = nn.Linear(64, num_classes)\n",
    "\n",
    "    def forward(self, x):\n",
    "        x = self.relu1(self.fc1(x))\n",
    "        x = self.relu2(self.fc2(x))\n",
    "        return self.fc3(x)\n",
    "\n",
    "input_size = 187\n",
    "\n",
    "model = ECGNet(input_size=input_size, num_classes=5)\n",
    "model.load_state_dict(torch.load(\"ecg_model_mlp.pth\", map_location=device))\n",
    "model = model.to(device)\n",
    "# model.eval()\n"
   ]
  },
  {
   "cell_type": "code",
   "execution_count": 7,
   "id": "a0e86262",
   "metadata": {},
   "outputs": [],
   "source": [
    "df_processed = df_processed.astype(np.float32)\n",
    "\n",
    "X = torch.tensor(df_processed.values, dtype=torch.float32).unsqueeze(1).to(device)\n",
    "\n",
    "model.eval()\n",
    "with torch.no_grad():\n",
    "    outputs = model(X)\n",
    "    predictions = torch.argmax(outputs, dim=1).cpu().numpy()"
   ]
  },
  {
   "cell_type": "code",
   "execution_count": 8,
   "id": "d8ef42b4",
   "metadata": {},
   "outputs": [
    {
     "name": "stdout",
     "output_type": "stream",
     "text": [
      "Predicciones realizadas.\n",
      "Conteo por clase: [5755]\n"
     ]
    }
   ],
   "source": [
    "\n",
    "# Si predictions es un tensor de PyTorch\n",
    "if isinstance(predictions, torch.Tensor):\n",
    "    predictions = predictions.cpu().numpy()\n",
    "\n",
    "# Si predictions tiene más de 1 dimensión, aplanarlo\n",
    "predictions = np.ravel(predictions)\n",
    "\n",
    "print(\"Predicciones realizadas.\")\n",
    "print(\"Conteo por clase:\", np.bincount(predictions))"
   ]
  },
  {
   "cell_type": "code",
   "execution_count": 9,
   "id": "4fc7706e",
   "metadata": {},
   "outputs": [
    {
     "name": "stderr",
     "output_type": "stream",
     "text": [
      "C:\\Users\\matia\\AppData\\Local\\Temp\\ipykernel_9756\\264410370.py:10: FutureWarning: \n",
      "\n",
      "Passing `palette` without assigning `hue` is deprecated and will be removed in v0.14.0. Assign the `x` variable to `hue` and set `legend=False` for the same effect.\n",
      "\n",
      "  bars = sns.barplot(x=class_labels, y=counts, palette=\"pastel\")\n"
     ]
    },
    {
     "data": {
      "image/png": "[encoded data removed]",
      "text/plain": [
       "<Figure size 1000x600 with 1 Axes>"
      ]
     },
     "metadata": {},
     "output_type": "display_data"
    }
   ],
   "source": [
    "class_labels = ['N', 'S', 'V', 'F', 'Q']\n",
    "\n",
    "counts = np.bincount(predictions, minlength=5) \n",
    "total = counts.sum()\n",
    "probabilities = counts / total\n",
    "\n",
    "sns.set(style=\"whitegrid\")\n",
    "\n",
    "plt.figure(figsize=(10, 6))\n",
    "bars = sns.barplot(x=class_labels, y=counts, palette=\"pastel\")\n",
    "\n",
    "for i, (count, prob) in enumerate(zip(counts, probabilities)):\n",
    "    plt.text(i, count + 5, f\"{prob:.2%}\", ha='center', va='bottom', fontsize=12)\n",
    "\n",
    "plt.title(\"Probabilidad de pertenencia por categoria\", fontsize=16)\n",
    "plt.xlabel(\"Categoria\", fontsize=14)\n",
    "plt.ylabel(\"Cantidad de asignaciones\", fontsize=14)\n",
    "plt.ylim(0, max(counts) * 1.15)\n",
    "\n",
    "plt.tight_layout()\n",
    "plt.show()"
   ]
  },
  {
   "cell_type": "markdown",
   "id": "f1bccccb",
   "metadata": {},
   "source": [
    "# Modelo de redes convolucionales"
   ]
  },
  {
   "cell_type": "code",
   "execution_count": 10,
   "id": "0a6c8a95",
   "metadata": {},
   "outputs": [
    {
     "name": "stderr",
     "output_type": "stream",
     "text": [
      "C:\\Users\\matia\\AppData\\Local\\Temp\\ipykernel_9756\\645639691.py:28: FutureWarning: You are using `torch.load` with `weights_only=False` (the current default value), which uses the default pickle module implicitly. It is possible to construct malicious pickle data which will execute arbitrary code during unpickling (See https://github.com/pytorch/pytorch/blob/main/SECURITY.md#untrusted-models for more details). In a future release, the default value for `weights_only` will be flipped to `True`. This limits the functions that could be executed during unpickling. Arbitrary objects will no longer be allowed to be loaded via this mode unless they are explicitly allowlisted by the user via `torch.serialization.add_safe_globals`. We recommend you start setting `weights_only=True` for any use case where you don't have full control of the loaded file. Please open an issue on GitHub for any issues related to this experimental feature.\n",
      "  model.load_state_dict(torch.load(\"ecg_model_cnn.pth\", map_location=device))\n"
     ]
    },
    {
     "data": {
      "text/plain": [
       "<All keys matched successfully>"
      ]
     },
     "execution_count": 10,
     "metadata": {},
     "output_type": "execute_result"
    }
   ],
   "source": [
    "class ECGCNN(nn.Module):\n",
    "    def __init__(self, num_classes):\n",
    "        super(ECGCNN, self).__init__()\n",
    "\n",
    "        self.conv1 = nn.Conv1d(1, 16, kernel_size=5, stride=1, padding=2)\n",
    "        self.relu1 = nn.ReLU()\n",
    "        self.pool1 = nn.MaxPool1d(kernel_size=2)\n",
    "\n",
    "        self.conv2 = nn.Conv1d(16, 32, kernel_size=3, stride=1, padding=1)\n",
    "        self.relu2 = nn.ReLU()\n",
    "        self.pool2 = nn.MaxPool1d(kernel_size=2)\n",
    "\n",
    "        self.flatten = nn.Flatten()\n",
    "        \n",
    "        self.fc1 = nn.Linear(32 * 46, 64)\n",
    "        self.relu3 = nn.ReLU()\n",
    "        self.fc2 = nn.Linear(64, num_classes)\n",
    "\n",
    "    def forward(self, x):\n",
    "        x = self.pool1(self.relu1(self.conv1(x)))\n",
    "        x = self.pool2(self.relu2(self.conv2(x)))\n",
    "        x = self.flatten(x)\n",
    "        x = self.relu3(self.fc1(x))\n",
    "        return self.fc2(x)\n",
    "\n",
    "device = torch.device(\"cuda\" if torch.cuda.is_available() else \"cpu\")\n",
    "model = ECGCNN(num_classes=5).to(device)\n",
    "model.load_state_dict(torch.load(\"ecg_model_cnn.pth\", map_location=device))\n",
    "# model.eval()"
   ]
  },
  {
   "cell_type": "code",
   "execution_count": 11,
   "id": "41e87174",
   "metadata": {},
   "outputs": [],
   "source": [
    "df_processed = df_processed.astype(np.float32)\n",
    "\n",
    "X = torch.tensor(df_processed.values, dtype=torch.float32).unsqueeze(1).to(device)\n",
    "\n",
    "model.eval()\n",
    "with torch.no_grad():\n",
    "    outputs = model(X)\n",
    "    predictions = torch.argmax(outputs, dim=1).cpu().numpy()"
   ]
  },
  {
   "cell_type": "code",
   "execution_count": 12,
   "id": "29229c9d",
   "metadata": {},
   "outputs": [
    {
     "name": "stdout",
     "output_type": "stream",
     "text": [
      "Predicciones realizadas.\n",
      "Conteo por clase: [1104    2   45]\n"
     ]
    }
   ],
   "source": [
    "print(\"Predicciones realizadas.\")\n",
    "print(\"Conteo por clase:\", np.bincount(predictions))"
   ]
  },
  {
   "cell_type": "code",
   "execution_count": 13,
   "id": "354cac07",
   "metadata": {},
   "outputs": [
    {
     "name": "stderr",
     "output_type": "stream",
     "text": [
      "C:\\Users\\matia\\AppData\\Local\\Temp\\ipykernel_9756\\3425705938.py:10: FutureWarning: \n",
      "\n",
      "Passing `palette` without assigning `hue` is deprecated and will be removed in v0.14.0. Assign the `x` variable to `hue` and set `legend=False` for the same effect.\n",
      "\n",
      "  bars = sns.barplot(x=class_labels, y=counts, palette=\"pastel\")\n"
     ]
    },
    {
     "data": {
      "image/png": "[encoded data removed]",
      "text/plain": [
       "<Figure size 1000x600 with 1 Axes>"
      ]
     },
     "metadata": {},
     "output_type": "display_data"
    }
   ],
   "source": [
    "class_labels = ['N', 'S', 'V', 'F', 'Q']\n",
    "\n",
    "counts = np.bincount(predictions, minlength=5) \n",
    "total = counts.sum()\n",
    "probabilities = counts / total\n",
    "\n",
    "sns.set(style=\"whitegrid\")\n",
    "\n",
    "plt.figure(figsize=(10, 6))\n",
    "bars = sns.barplot(x=class_labels, y=counts, palette=\"pastel\")\n",
    "\n",
    "for i, (count, prob) in enumerate(zip(counts, probabilities)):\n",
    "    plt.text(i, count + 5, f\"{prob:.2%}\", ha='center', va='bottom', fontsize=12)\n",
    "\n",
    "plt.title(\"Probabilidad de pertenencia por categoria\", fontsize=16)\n",
    "plt.xlabel(\"Categoria\", fontsize=14)\n",
    "plt.ylabel(\"Probabilidad de pertenencia\", fontsize=14)\n",
    "plt.ylim(0, max(counts) * 1.15)\n",
    "\n",
    "plt.tight_layout()\n",
    "plt.show()"
   ]
  },
  {
   "cell_type": "markdown",
   "id": "c0bc51b0",
   "metadata": {},
   "source": [
    "# Modelo Autoencoder"
   ]
  },
  {
   "cell_type": "code",
   "execution_count": 14,
   "id": "17912c4b",
   "metadata": {},
   "outputs": [],
   "source": [
    "def predecir(modelo, datos, umbral):\n",
    "    datos_np = datos.values.astype(np.float32)\n",
    "    reconstrucciones = modelo.predict(datos_np)\n",
    "    \n",
    "    # Calcular MAE por muestra (fila)\n",
    "    mae = np.mean(np.abs(reconstrucciones - datos_np), axis=1)\n",
    "    \n",
    "    # Predicción booleana: True si es anómalo (MAE > umbral), False si es normal\n",
    "    return mae > umbral, mae\n"
   ]
  },
  {
   "cell_type": "code",
   "execution_count": 15,
   "id": "ffd29c2c",
   "metadata": {},
   "outputs": [
    {
     "name": "stdout",
     "output_type": "stream",
     "text": [
      "36/36 [==============================] - 0s 501us/step\n"
     ]
    }
   ],
   "source": [
    "autoencoder = load_model('ecg_model_autoencoder.h5')  \n",
    "\n",
    "df_processed = df_processed.astype(np.float32)\n",
    "\n",
    "reconstructions = autoencoder.predict(df_processed)\n",
    "\n",
    "mae = np.mean(np.abs(reconstructions - df_processed), axis=1)"
   ]
  },
  {
   "cell_type": "code",
   "execution_count": 16,
   "id": "bf203d1f",
   "metadata": {},
   "outputs": [
    {
     "name": "stdout",
     "output_type": "stream",
     "text": [
      "Umbral usado: 0.0838\n",
      "Conteo de categorías: Counter({'normal': 1128, 'anómalo': 23})\n"
     ]
    }
   ],
   "source": [
    "umbral = np.percentile(mae, 98)  # 0.0867 aprox.\n",
    "\n",
    "def asignar_categoria(mae, umbral):\n",
    "    return np.where(mae > umbral, \"anómalo\", \"normal\")\n",
    "\n",
    "categorias = asignar_categoria(mae, umbral)\n",
    "\n",
    "print(f\"Umbral usado: {umbral:.4f}\")\n",
    "print(\"Conteo de categorías:\", Counter(categorias))\n"
   ]
  }
 ],
 "metadata": {
  "kernelspec": {
   "display_name": ".venv",
   "language": "python",
   "name": "python3"
  },
  "language_info": {
   "codemirror_mode": {
    "name": "ipython",
    "version": 3
   },
   "file_extension": ".py",
   "mimetype": "text/x-python",
   "name": "python",
   "nbconvert_exporter": "python",
   "pygments_lexer": "ipython3",
   "version": "3.8.8"
  }
 },
 "nbformat": 4,
 "nbformat_minor": 5
}
