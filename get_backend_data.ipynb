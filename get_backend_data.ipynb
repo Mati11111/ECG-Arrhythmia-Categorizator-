{
 "cells": [
  {
   "cell_type": "code",
   "execution_count": null,
   "id": "9286c454",
   "metadata": {},
   "outputs": [
    {
     "name": "stdout",
     "output_type": "stream",
     "text": [
      "Datos de ecg almacenados en datos.json\n"
     ]
    }
   ],
   "source": [
    "from dotenv import load_dotenv\n",
    "import os\n",
    "import requests\n",
    "import json\n",
    "import cloudinary\n",
    "import cloudinary.uploader\n",
    "import cloudinary.api\n",
    "\n",
    "load_dotenv()\n",
    "\n",
    "cloudinary.config(\n",
    "    cloud_name = os.getenv(\"CLOUD_NAME\"),\n",
    "    api_key = os.getenv(\"CLOUD_API_KEY\"),\n",
    "    api_secret = os.getenv(\"CLOUD_API_SECRET\")\n",
    ")\n",
    "\n",
    "url = \"https://e8aafa0e2bf6.ngrok-free.app/ecg\"\n",
    "\n",
    "response = requests.get(url)\n",
    "\n",
    "if response.status_code == 200:\n",
    "    file = \"ecg_data_to_load.txt\"\n",
    "    with open(file, \"w\", encoding=\"utf'8\") as f:\n",
    "        json.dump(response.json(), f,indent=4, ensure_ascii=False)\n",
    "    print(\"Datos de ecg almacenados en datos.json\")\n",
    "    # cambiar por carga de mmodelo y pesos\n",
    "    result = cloudinary.uploader.upload(file, resource_type=\"raw\")\n",
    "else:\n",
    "    print(\"error\")"
   ]
  }
 ],
 "metadata": {
  "kernelspec": {
   "display_name": ".venv",
   "language": "python",
   "name": "python3"
  },
  "language_info": {
   "codemirror_mode": {
    "name": "ipython",
    "version": 3
   },
   "file_extension": ".py",
   "mimetype": "text/x-python",
   "name": "python",
   "nbconvert_exporter": "python",
   "pygments_lexer": "ipython3",
   "version": "3.8.8"
  }
 },
 "nbformat": 4,
 "nbformat_minor": 5
}
