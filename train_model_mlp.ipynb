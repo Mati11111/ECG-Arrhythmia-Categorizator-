{
 "cells": [
  {
   "cell_type": "code",
   "execution_count": 31,
   "id": "008718d3",
   "metadata": {},
   "outputs": [],
   "source": [
    "import pandas as pd\n",
    "import numpy as np\n",
    "import torch\n",
    "import torch.nn as nn\n",
    "import torch.optim as optim\n",
    "from torch.utils.data import TensorDataset, DataLoader\n",
    "from sklearn.preprocessing import StandardScaler\n",
    "from sklearn.metrics import classification_report, confusion_matrix\n",
    "import matplotlib.pyplot as plt\n",
    "import seaborn as sns\n",
    "import time"
   ]
  },
  {
   "cell_type": "code",
   "execution_count": 32,
   "id": "2634ddbd",
   "metadata": {},
   "outputs": [
    {
     "name": "stdout",
     "output_type": "stream",
     "text": [
      "Usando dispositivo: cpu\n"
     ]
    }
   ],
   "source": [
    "device = torch.device(\"cuda\" if torch.cuda.is_available() else \"cpu\")\n",
    "\n",
    "print(f\"Usando dispositivo: {device}\")\n",
    "\n",
    "start_time_total = time.time()\n",
    "\n",
    "train_df = pd.read_csv(\"mitbih_train.csv\", header=None)\n",
    "test_df = pd.read_csv(\"mitbih_test.csv\", header=None)"
   ]
  },
  {
   "cell_type": "code",
   "execution_count": 33,
   "id": "f1bbf7b7",
   "metadata": {},
   "outputs": [],
   "source": [
    "X_train = train_df.iloc[:, :-1].values\n",
    "y_train = train_df.iloc[:, -1].astype(int).values\n",
    "\n",
    "X_test = test_df.iloc[:, :-1].values\n",
    "y_test = test_df.iloc[:, -1].astype(int).values\n",
    "\n",
    "scaler = StandardScaler()\n",
    "X_train_scaled = scaler.fit_transform(X_train)\n",
    "X_test_scaled = scaler.transform(X_test)\n",
    "\n",
    "X_train_tensor = torch.tensor(X_train_scaled, dtype=torch.float32)\n",
    "y_train_tensor = torch.tensor(y_train, dtype=torch.long)\n",
    "\n",
    "X_test_tensor = torch.tensor(X_test_scaled, dtype=torch.float32)\n",
    "y_test_tensor = torch.tensor(y_test, dtype=torch.long)\n",
    "\n",
    "train_dataset = TensorDataset(X_train_tensor, y_train_tensor)\n",
    "test_dataset = TensorDataset(X_test_tensor, y_test_tensor)\n",
    "\n",
    "train_loader = DataLoader(train_dataset, batch_size=256, shuffle=True)\n",
    "test_loader = DataLoader(test_dataset, batch_size=256)"
   ]
  },
  {
   "cell_type": "code",
   "execution_count": 34,
   "id": "2bcfc567",
   "metadata": {},
   "outputs": [
    {
     "name": "stdout",
     "output_type": "stream",
     "text": [
      "\n",
      "Entrenando...\n",
      "\n",
      "Epoch 1/10 - Loss: 0.2962 - Tiempo: 0.81 s\n",
      "Epoch 2/10 - Loss: 0.1415 - Tiempo: 0.80 s\n",
      "Epoch 3/10 - Loss: 0.1126 - Tiempo: 0.77 s\n",
      "Epoch 4/10 - Loss: 0.0974 - Tiempo: 1.04 s\n",
      "Epoch 5/10 - Loss: 0.0881 - Tiempo: 0.73 s\n",
      "Epoch 6/10 - Loss: 0.0818 - Tiempo: 0.84 s\n",
      "Epoch 7/10 - Loss: 0.0770 - Tiempo: 0.80 s\n",
      "Epoch 8/10 - Loss: 0.0725 - Tiempo: 0.83 s\n",
      "Epoch 9/10 - Loss: 0.0678 - Tiempo: 0.75 s\n",
      "Epoch 10/10 - Loss: 0.0646 - Tiempo: 0.77 s\n"
     ]
    }
   ],
   "source": [
    "class ECGNet(nn.Module):\n",
    "    def __init__(self, input_size, num_classes):\n",
    "        super(ECGNet, self).__init__()\n",
    "        self.fc1 = nn.Linear(input_size, 128)\n",
    "        self.relu1 = nn.ReLU()\n",
    "        self.fc2 = nn.Linear(128, 64)\n",
    "        self.relu2 = nn.ReLU()\n",
    "        self.fc3 = nn.Linear(64, num_classes)\n",
    "\n",
    "    def forward(self, x):\n",
    "        x = self.relu1(self.fc1(x))\n",
    "        x = self.relu2(self.fc2(x))\n",
    "        return self.fc3(x)\n",
    "\n",
    "model = ECGNet(X_train.shape[1], 5).to(device)\n",
    "\n",
    "criterion = nn.CrossEntropyLoss()\n",
    "optimizer = optim.Adam(model.parameters(), lr=0.001)\n",
    "\n",
    "epochs = 10\n",
    "print(\"\\nEntrenando...\\n\")\n",
    "for epoch in range(epochs):\n",
    "    epoch_start = time.time()\n",
    "    model.train()\n",
    "    running_loss = 0.0\n",
    "    for X_batch, y_batch in train_loader:\n",
    "        X_batch, y_batch = X_batch.to(device), y_batch.to(device)\n",
    "\n",
    "        optimizer.zero_grad()\n",
    "        outputs = model(X_batch)\n",
    "        loss = criterion(outputs, y_batch)\n",
    "        loss.backward()\n",
    "        optimizer.step()\n",
    "\n",
    "        running_loss += loss.item()\n",
    "    \n",
    "    epoch_time = time.time() - epoch_start\n",
    "    print(f\"Epoch {epoch+1}/{epochs} - Loss: {running_loss/len(train_loader):.4f} - Tiempo: {epoch_time:.2f} s\")"
   ]
  },
  {
   "cell_type": "code",
   "execution_count": 35,
   "id": "183a7b9e",
   "metadata": {},
   "outputs": [
    {
     "name": "stdout",
     "output_type": "stream",
     "text": [
      "\n",
      "Evaluando modelo...\n",
      "\n",
      "Accuracy: 0.9754\n",
      "\n",
      "Reporte de clasificación:\n",
      "\n",
      "              precision    recall  f1-score   support\n",
      "\n",
      "           0       0.98      0.99      0.99     18118\n",
      "           1       0.88      0.67      0.76       556\n",
      "           2       0.92      0.94      0.93      1448\n",
      "           3       0.80      0.64      0.71       162\n",
      "           4       0.97      0.97      0.97      1608\n",
      "\n",
      "    accuracy                           0.98     21892\n",
      "   macro avg       0.91      0.84      0.87     21892\n",
      "weighted avg       0.97      0.98      0.97     21892\n",
      "\n"
     ]
    },
    {
     "data": {
      "image/png": "[encoded data removed]",
      "text/plain": [
       "<Figure size 800x600 with 2 Axes>"
      ]
     },
     "metadata": {},
     "output_type": "display_data"
    },
    {
     "name": "stdout",
     "output_type": "stream",
     "text": [
      "\n",
      "Tiempo de evaluación: 0.11 segundos\n",
      "\n",
      " Tiempo total de ejecución: 11.02 segundos\n"
     ]
    }
   ],
   "source": [
    "print(\"\\nEvaluando modelo...\")\n",
    "model.eval()\n",
    "y_pred = []\n",
    "y_true = []\n",
    "\n",
    "eval_start_time = time.time()\n",
    "\n",
    "with torch.no_grad():\n",
    "    for X_batch, y_batch in test_loader:\n",
    "        X_batch = X_batch.to(device)\n",
    "        outputs = model(X_batch)\n",
    "        _, predicted = torch.max(outputs, 1)\n",
    "        y_pred.extend(predicted.cpu().numpy())\n",
    "        y_true.extend(y_batch.numpy())\n",
    "\n",
    "eval_time = time.time() - eval_start_time\n",
    "y_pred = np.array(y_pred)\n",
    "y_true = np.array(y_true)\n",
    "accuracy = np.mean(y_pred == y_true)\n",
    "print(f\"\\nAccuracy: {accuracy:.4f}\")\n",
    "\n",
    "print(\"\\nReporte de clasificación:\\n\")\n",
    "print(classification_report(y_true, y_pred))\n",
    "\n",
    "conf_mat = confusion_matrix(y_true, y_pred)\n",
    "plt.figure(figsize=(8, 6))\n",
    "sns.heatmap(conf_mat, annot=True, fmt='d', cmap=\"Blues\",\n",
    "            xticklabels=[0, 1, 2, 3, 4], yticklabels=[0, 1, 2, 3, 4])\n",
    "plt.xlabel(\"Predicted\")\n",
    "plt.ylabel(\"True\")\n",
    "plt.title(\"Confusion Matrix\")\n",
    "plt.tight_layout()\n",
    "plt.show()\n",
    "\n",
    "total_time = time.time() - start_time_total\n",
    "print(f\"\\nTiempo de evaluación: {eval_time:.2f} segundos\")\n",
    "print(f\"\\n Tiempo total de ejecución: {total_time:.2f} segundos\")"
   ]
  },
  {
   "cell_type": "code",
   "execution_count": 36,
   "id": "c0be894f",
   "metadata": {},
   "outputs": [
    {
     "name": "stdout",
     "output_type": "stream",
     "text": [
      "Modelo guardado como 'ecg_model.pth'\n"
     ]
    }
   ],
   "source": [
    "torch.save(model.state_dict(), \"ecg_model.pth\")\n",
    "print(\"Modelo guardado como 'ecg_model.pth'\")"
   ]
  }
 ],
 "metadata": {
  "kernelspec": {
   "display_name": ".venv",
   "language": "python",
   "name": "python3"
  },
  "language_info": {
   "codemirror_mode": {
    "name": "ipython",
    "version": 3
   },
   "file_extension": ".py",
   "mimetype": "text/x-python",
   "name": "python",
   "nbconvert_exporter": "python",
   "pygments_lexer": "ipython3",
   "version": "3.8.8"
  }
 },
 "nbformat": 4,
 "nbformat_minor": 5
}
